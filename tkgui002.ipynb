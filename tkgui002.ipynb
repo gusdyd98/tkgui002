{
 "cells": [
  {
   "cell_type": "code",
   "execution_count": 1,
   "metadata": {},
   "outputs": [],
   "source": [
    "import tkinter as tk\n",
    "\n",
    "root=tk.Tk()\n",
    "root.title('Tkinter GUI')\n",
    "root.geometry('240x100')\n",
    "\n",
    "button=tk.Button(root, text='Hello', width=30, height=5)\n",
    "button.pack()\n",
    "\n",
    "root.mainloop()"
   ]
  },
  {
   "cell_type": "code",
   "execution_count": 2,
   "metadata": {},
   "outputs": [],
   "source": [
    "import tkinter as tk\n",
    "\n",
    "root=tk.Tk()\n",
    "root.title('Tkinter GUI')\n",
    "root.geometry('240x100')\n",
    "\n",
    "button=tk.Button(root, text='Hello', padx=10, pady=5)\n",
    "button.pack()\n",
    "\n",
    "root.mainloop()"
   ]
  },
  {
   "cell_type": "code",
   "execution_count": 3,
   "metadata": {},
   "outputs": [],
   "source": [
    "import tkinter as tk\n",
    "\n",
    "root=tk.Tk()\n",
    "root.title('Tkinter GUI')\n",
    "\n",
    "canvas=tk.Canvas(root)\n",
    "\n",
    "rectangle=canvas.create_rectangle(50,50,200,200,width=10)\n",
    "\n",
    "canvas.pack()\n",
    "\n",
    "root.mainloop()"
   ]
  },
  {
   "cell_type": "markdown",
   "metadata": {},
   "source": [
    "## color 설정"
   ]
  },
  {
   "cell_type": "code",
   "execution_count": 4,
   "metadata": {},
   "outputs": [],
   "source": [
    "import tkinter as tk\n",
    "\n",
    "root=tk.Tk()\n",
    "root.title(\"Tkinter GUI\")\n",
    "root.geometry(\"240x100\")\n",
    "\n",
    "button=tk.Button(root, text=\"Hello\", background=\"blue\", foreground=\"red\")\n",
    "button.pack()\n",
    "\n",
    "root.mainloop()"
   ]
  },
  {
   "cell_type": "code",
   "execution_count": 5,
   "metadata": {},
   "outputs": [],
   "source": [
    "import tkinter as tk\n",
    "\n",
    "root=tk.Tk()\n",
    "root.title(\"Tkinter GUI\")\n",
    "root.geometry(\"240x100\")\n",
    "\n",
    "button=tk.Button(root, text=\"Hello\", background=\"#0000FF\", foreground=\"#FF0000\")\n",
    "button.pack()\n",
    "\n",
    "root.mainloop()"
   ]
  },
  {
   "cell_type": "code",
   "execution_count": 6,
   "metadata": {},
   "outputs": [],
   "source": [
    "import tkinter as tk\n",
    "\n",
    "root=tk.Tk()\n",
    "root.title(\"Tkinter GUI\")\n",
    "\n",
    "canvas=tk.Canvas(root)\n",
    "\n",
    "rectangle=canvas.create_rectangle(50,50,200,200, fill=\"blue\", outline='red', width=10)\n",
    "\n",
    "canvas.pack()\n",
    "\n",
    "root.mainloop()"
   ]
  },
  {
   "cell_type": "markdown",
   "metadata": {},
   "source": [
    "# 폰트"
   ]
  },
  {
   "cell_type": "markdown",
   "metadata": {},
   "source": [
    "from tkinter.font import Font\n",
    "\n",
    "font = Font(option, ...)"
   ]
  },
  {
   "cell_type": "code",
   "execution_count": 7,
   "metadata": {},
   "outputs": [],
   "source": [
    "import tkinter as tk\n",
    "from tkinter.font import Font\n",
    "\n",
    "root=tk.Tk()\n",
    "root.title(\"Tkinter GUI\")\n",
    "root.geometry(\"240x100\")\n",
    "\n",
    "helv36=Font(family=\"Helvetica\", size=36, weight=\"bold\")\n",
    "\n",
    "button=tk.Button(root, text=\"Hello\", font=helv36)\n",
    "button.pack()\n",
    "\n",
    "root.mainloop()\n"
   ]
  },
  {
   "cell_type": "code",
   "execution_count": 8,
   "metadata": {},
   "outputs": [],
   "source": [
    "import tkinter as tk\n",
    "from tkinter.font import Font\n",
    "\n",
    "root = tk.Tk()\n",
    "root.title(\"TKinter GUI\")\n",
    "root.geometry(\"240x100\")\n",
    "\n",
    "helv36=Font(family=\"Helvetica\", size=36, weight=\"bold\", slant=\"italic\", underline=1)\n",
    "\n",
    "button=tk.Button(root, text=\"Hello\", font=helv36)\n",
    "button.pack()\n",
    "\n",
    "root.mainloop()"
   ]
  },
  {
   "cell_type": "markdown",
   "metadata": {},
   "source": [
    "## 예제11"
   ]
  },
  {
   "cell_type": "code",
   "execution_count": null,
   "metadata": {},
   "outputs": [],
   "source": []
  }
 ],
 "metadata": {
  "kernelspec": {
   "display_name": "Python 3",
   "language": "python",
   "name": "python3"
  },
  "language_info": {
   "codemirror_mode": {
    "name": "ipython",
    "version": 3
   },
   "file_extension": ".py",
   "mimetype": "text/x-python",
   "name": "python",
   "nbconvert_exporter": "python",
   "pygments_lexer": "ipython3",
   "version": "3.7.4"
  }
 },
 "nbformat": 4,
 "nbformat_minor": 2
}
